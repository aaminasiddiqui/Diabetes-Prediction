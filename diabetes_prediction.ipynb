{
 "cells": [
  {
   "cell_type": "code",
   "execution_count": 12,
   "id": "6777b53c-8bb7-4a9c-b940-7f34709885aa",
   "metadata": {},
   "outputs": [],
   "source": [
    "import numpy as np\n",
    "import pandas as pd \n",
    "df= pd.read_csv(\"diabetes.csv\")\n",
    "#extract x i.e. all rows, all columns except 'Outcome'\n",
    "x= df.iloc[:,:-1].values\n",
    "\n",
    "#extract y i.e. all rows, only last column\n",
    "y= df.iloc[:,-1].values\n",
    "\n"
   ]
  },
  {
   "cell_type": "code",
   "execution_count": 1,
   "id": "ef6254f9-9dc0-4068-8844-2b8e31455dde",
   "metadata": {},
   "outputs": [],
   "source": [
    "import numpy as np\n",
    "import pandas as pd \n",
    "df= pd.read_csv(\"diabetes.csv\")"
   ]
  },
  {
   "cell_type": "code",
   "execution_count": 2,
   "id": "3dc7c2b3-96a6-48b7-a106-620d96617114",
   "metadata": {},
   "outputs": [],
   "source": [
    "#extract x i.e. all rows, all columns except 'Outcome'\n",
    "x= df.iloc[:,:-1].values\n",
    "\n",
    "#extract y i.e. all rows, only last column\n",
    "y= df.iloc[:,-1].values"
   ]
  },
  {
   "cell_type": "code",
   "execution_count": 3,
   "id": "8a397202-107b-4b6e-b694-cc2b5f996b6f",
   "metadata": {},
   "outputs": [],
   "source": [
    "from sklearn.preprocessing import StandardScaler\n",
    "scaler= StandardScaler()\n",
    "x= scaler.fit_transform(x)"
   ]
  },
  {
   "cell_type": "code",
   "execution_count": 4,
   "id": "4d321c34-f56a-4bd1-93b2-a3a4b52efe21",
   "metadata": {},
   "outputs": [],
   "source": [
    "from sklearn.model_selection import train_test_split\n",
    "x_train,x_test,y_train,y_test = train_test_split(x,y,test_size=0.2,random_state=1)"
   ]
  },
  {
   "cell_type": "code",
   "execution_count": 5,
   "id": "a7695e8f-4e6b-43ba-a6ef-60ed05ef7f5b",
   "metadata": {},
   "outputs": [
    {
     "name": "stderr",
     "output_type": "stream",
     "text": [
      "2024-07-26 23:18:42.579235: I tensorflow/core/platform/cpu_feature_guard.cc:193] This TensorFlow binary is optimized with oneAPI Deep Neural Network Library (oneDNN) to use the following CPU instructions in performance-critical operations:  SSE4.1 SSE4.2 AVX AVX2 AVX512F AVX512_VNNI FMA\n",
      "To enable them in other operations, rebuild TensorFlow with the appropriate compiler flags.\n"
     ]
    }
   ],
   "source": [
    "import tensorflow \n",
    "from tensorflow import keras\n",
    "from keras import Sequential\n",
    "from keras.layers import Dense,Dropout"
   ]
  },
  {
   "cell_type": "code",
   "execution_count": 6,
   "id": "49b5aff3-b7ff-4f6a-a732-bcf202f25185",
   "metadata": {},
   "outputs": [],
   "source": [
    "import keras_tuner as kt"
   ]
  },
  {
   "cell_type": "code",
   "execution_count": 13,
   "id": "fa388c69-f775-4ef3-bb41-0fa716b294ea",
   "metadata": {},
   "outputs": [],
   "source": [
    "def build_model(hp):\n",
    "    model=Sequential()\n",
    "    counter=0\n",
    "\n",
    "    for i in range(hp.Int('num_layers',min_value=1,max_value=10)):\n",
    "        if counter==0 :\n",
    "            #FIRST LAYER\n",
    "            model.add(Dense(hp.Int('units'  + str(i),min_value=8,max_value=128,step=8),\n",
    "                      activation=hp.Choice('activation' + str(i), values=['relu','tanh']),\n",
    "                      input_dim=8))\n",
    "            model.add(Dropout(hp.Choice('dropout'+str(i),values=[0.1,0.2,0.3,0.4,0.5,0.6,0.7,0.8,0.9])))\n",
    "\n",
    "        else:\n",
    "            model.add(Dense(hp.Int('units'  + str(i),min_value=8,max_value=128,step=8),\n",
    "                      activation=hp.Choice('activation' +str(i), values=['relu','tanh'])))\n",
    "            model.add(Dropout(hp.Choice('dropout'+str(i),values=[0.1,0.2,0.3,0.4,0.5,0.6,0.7,0.8,0.9])))\n",
    "\n",
    "        counter+=1\n",
    "\n",
    "    model.add(Dense(1,activation='sigmoid'))\n",
    "    model.compile(optimizer=hp.Choice('optimizer',values=['adam','rmsprop','sgd']),\n",
    "                  loss='binary_crossentropy',\n",
    "                  metrics=['accuracy'])\n",
    "    return model\n"
   ]
  },
  {
   "cell_type": "code",
   "execution_count": null,
   "id": "1e33fa6c-60a2-40d1-9667-68cdae12f72e",
   "metadata": {},
   "outputs": [],
   "source": []
  },
  {
   "cell_type": "code",
   "execution_count": 14,
   "id": "c7e5f5bd-142b-45c2-9969-40f48126bce3",
   "metadata": {},
   "outputs": [],
   "source": [
    "Tuner=kt.RandomSearch(build_model,objective='val_accuracy',max_trials=5,directory='mydir',project_name='Tuning2')"
   ]
  },
  {
   "cell_type": "code",
   "execution_count": 15,
   "id": "2bc81259-da6f-479a-9fb6-98d57480b9ad",
   "metadata": {},
   "outputs": [
    {
     "name": "stdout",
     "output_type": "stream",
     "text": [
      "Trial 5 Complete [00h 00m 02s]\n",
      "val_accuracy: 0.798701286315918\n",
      "\n",
      "Best val_accuracy So Far: 0.8051947951316833\n",
      "Total elapsed time: 00h 00m 10s\n"
     ]
    }
   ],
   "source": [
    "Tuner.search(x_train,y_train,epochs=5,validation_data=(x_test,y_test))"
   ]
  },
  {
   "cell_type": "code",
   "execution_count": 16,
   "id": "04cfcf98-b06b-4ac2-9016-0959889d698b",
   "metadata": {},
   "outputs": [
    {
     "data": {
      "text/plain": [
       "{'num_layers': 4,\n",
       " 'units0': 72,\n",
       " 'activation0': 'tanh',\n",
       " 'dropout0': 0.2,\n",
       " 'optimizer': 'rmsprop',\n",
       " 'units1': 16,\n",
       " 'activation1': 'relu',\n",
       " 'dropout1': 0.2,\n",
       " 'units2': 128,\n",
       " 'activation2': 'relu',\n",
       " 'dropout2': 0.1,\n",
       " 'units3': 128,\n",
       " 'activation3': 'relu',\n",
       " 'dropout3': 0.1,\n",
       " 'units4': 96,\n",
       " 'activation4': 'tanh',\n",
       " 'dropout4': 0.4,\n",
       " 'units5': 32,\n",
       " 'activation5': 'tanh',\n",
       " 'dropout5': 0.2,\n",
       " 'units6': 88,\n",
       " 'activation6': 'relu',\n",
       " 'dropout6': 0.2}"
      ]
     },
     "execution_count": 16,
     "metadata": {},
     "output_type": "execute_result"
    }
   ],
   "source": [
    "Tuner.get_best_hyperparameters()[0].values"
   ]
  },
  {
   "cell_type": "code",
   "execution_count": 17,
   "id": "30fc07cc-57b1-4926-af2b-c48a1076a147",
   "metadata": {},
   "outputs": [],
   "source": [
    "model=Tuner.get_best_models(num_models=1)[0]"
   ]
  },
  {
   "cell_type": "code",
   "execution_count": null,
   "id": "0507616f-17d3-4e75-a8b1-d781f83d0d23",
   "metadata": {},
   "outputs": [
    {
     "name": "stdout",
     "output_type": "stream",
     "text": [
      "Epoch 7/100\n",
      "20/20 [==============================] - 1s 12ms/step - loss: 0.4849 - accuracy: 0.7492 - val_loss: 0.4693 - val_accuracy: 0.8052\n",
      "Epoch 8/100\n",
      "20/20 [==============================] - 0s 4ms/step - loss: 0.4932 - accuracy: 0.7590 - val_loss: 0.4712 - val_accuracy: 0.7922\n",
      "Epoch 9/100\n",
      "20/20 [==============================] - 0s 4ms/step - loss: 0.4781 - accuracy: 0.7671 - val_loss: 0.4676 - val_accuracy: 0.8052\n",
      "Epoch 10/100\n",
      "20/20 [==============================] - 0s 4ms/step - loss: 0.4882 - accuracy: 0.7736 - val_loss: 0.4651 - val_accuracy: 0.8117\n",
      "Epoch 11/100\n",
      "20/20 [==============================] - 0s 4ms/step - loss: 0.4699 - accuracy: 0.7671 - val_loss: 0.4608 - val_accuracy: 0.8052\n",
      "Epoch 12/100\n",
      "20/20 [==============================] - 0s 4ms/step - loss: 0.4694 - accuracy: 0.7720 - val_loss: 0.4579 - val_accuracy: 0.8052\n",
      "Epoch 13/100\n",
      "20/20 [==============================] - 0s 4ms/step - loss: 0.4775 - accuracy: 0.7590 - val_loss: 0.4569 - val_accuracy: 0.8052\n",
      "Epoch 14/100\n",
      "20/20 [==============================] - 0s 4ms/step - loss: 0.4687 - accuracy: 0.7720 - val_loss: 0.4591 - val_accuracy: 0.7922\n",
      "Epoch 15/100\n",
      "20/20 [==============================] - 0s 4ms/step - loss: 0.4758 - accuracy: 0.7720 - val_loss: 0.4560 - val_accuracy: 0.8052\n",
      "Epoch 16/100\n",
      "20/20 [==============================] - 0s 4ms/step - loss: 0.4827 - accuracy: 0.7557 - val_loss: 0.4623 - val_accuracy: 0.7987\n",
      "Epoch 17/100\n",
      "20/20 [==============================] - 0s 4ms/step - loss: 0.4720 - accuracy: 0.7606 - val_loss: 0.4714 - val_accuracy: 0.8117\n",
      "Epoch 18/100\n",
      "20/20 [==============================] - 0s 4ms/step - loss: 0.4767 - accuracy: 0.7704 - val_loss: 0.4643 - val_accuracy: 0.7987\n",
      "Epoch 19/100\n",
      "20/20 [==============================] - 0s 4ms/step - loss: 0.4697 - accuracy: 0.7752 - val_loss: 0.4660 - val_accuracy: 0.7987\n",
      "Epoch 20/100\n",
      "20/20 [==============================] - 0s 4ms/step - loss: 0.4700 - accuracy: 0.7704 - val_loss: 0.4676 - val_accuracy: 0.8117\n",
      "Epoch 21/100\n",
      "20/20 [==============================] - 0s 5ms/step - loss: 0.4754 - accuracy: 0.7606 - val_loss: 0.4698 - val_accuracy: 0.8052\n",
      "Epoch 22/100\n",
      "20/20 [==============================] - 0s 4ms/step - loss: 0.4726 - accuracy: 0.7687 - val_loss: 0.4643 - val_accuracy: 0.8052\n",
      "Epoch 23/100\n",
      "20/20 [==============================] - 0s 4ms/step - loss: 0.4404 - accuracy: 0.7818 - val_loss: 0.4613 - val_accuracy: 0.7857\n",
      "Epoch 24/100\n",
      "20/20 [==============================] - 0s 5ms/step - loss: 0.4722 - accuracy: 0.7704 - val_loss: 0.4626 - val_accuracy: 0.7922\n",
      "Epoch 25/100\n",
      "20/20 [==============================] - 0s 4ms/step - loss: 0.4630 - accuracy: 0.7850 - val_loss: 0.4704 - val_accuracy: 0.8182\n",
      "Epoch 26/100\n",
      "20/20 [==============================] - 0s 6ms/step - loss: 0.4691 - accuracy: 0.7687 - val_loss: 0.4737 - val_accuracy: 0.8052\n",
      "Epoch 27/100\n",
      "20/20 [==============================] - 0s 4ms/step - loss: 0.4630 - accuracy: 0.7752 - val_loss: 0.4702 - val_accuracy: 0.8052\n",
      "Epoch 28/100\n",
      "20/20 [==============================] - 0s 4ms/step - loss: 0.4494 - accuracy: 0.7834 - val_loss: 0.4654 - val_accuracy: 0.7987\n",
      "Epoch 29/100\n",
      "20/20 [==============================] - 0s 4ms/step - loss: 0.4581 - accuracy: 0.7736 - val_loss: 0.4659 - val_accuracy: 0.8117\n",
      "Epoch 30/100\n",
      "20/20 [==============================] - 0s 4ms/step - loss: 0.4604 - accuracy: 0.7720 - val_loss: 0.4650 - val_accuracy: 0.8182\n",
      "Epoch 31/100\n",
      "20/20 [==============================] - 0s 4ms/step - loss: 0.4669 - accuracy: 0.7638 - val_loss: 0.4681 - val_accuracy: 0.7922\n",
      "Epoch 32/100\n",
      "20/20 [==============================] - 0s 4ms/step - loss: 0.4481 - accuracy: 0.7785 - val_loss: 0.4627 - val_accuracy: 0.7987\n",
      "Epoch 33/100\n",
      "20/20 [==============================] - 0s 5ms/step - loss: 0.4588 - accuracy: 0.7834 - val_loss: 0.4643 - val_accuracy: 0.8182\n",
      "Epoch 34/100\n",
      "20/20 [==============================] - 0s 5ms/step - loss: 0.4581 - accuracy: 0.7883 - val_loss: 0.4601 - val_accuracy: 0.8247\n",
      "Epoch 35/100\n",
      "20/20 [==============================] - 0s 5ms/step - loss: 0.4683 - accuracy: 0.7671 - val_loss: 0.4656 - val_accuracy: 0.8182\n",
      "Epoch 36/100\n",
      "20/20 [==============================] - 0s 5ms/step - loss: 0.4522 - accuracy: 0.7704 - val_loss: 0.4651 - val_accuracy: 0.8247\n",
      "Epoch 37/100\n",
      "20/20 [==============================] - 0s 5ms/step - loss: 0.4605 - accuracy: 0.7720 - val_loss: 0.4737 - val_accuracy: 0.8182\n",
      "Epoch 38/100\n",
      "20/20 [==============================] - 0s 5ms/step - loss: 0.4591 - accuracy: 0.7687 - val_loss: 0.4684 - val_accuracy: 0.8052\n",
      "Epoch 39/100\n",
      "20/20 [==============================] - 0s 4ms/step - loss: 0.4607 - accuracy: 0.7720 - val_loss: 0.4658 - val_accuracy: 0.8117\n",
      "Epoch 40/100\n",
      "20/20 [==============================] - 0s 5ms/step - loss: 0.4599 - accuracy: 0.7638 - val_loss: 0.4681 - val_accuracy: 0.8182\n",
      "Epoch 41/100\n",
      "20/20 [==============================] - 0s 4ms/step - loss: 0.4613 - accuracy: 0.7736 - val_loss: 0.4683 - val_accuracy: 0.7987\n",
      "Epoch 42/100\n",
      "20/20 [==============================] - 0s 7ms/step - loss: 0.4549 - accuracy: 0.7736 - val_loss: 0.4653 - val_accuracy: 0.7987\n",
      "Epoch 43/100\n",
      "20/20 [==============================] - 0s 5ms/step - loss: 0.4423 - accuracy: 0.7964 - val_loss: 0.4630 - val_accuracy: 0.8117\n",
      "Epoch 44/100\n",
      "20/20 [==============================] - 0s 4ms/step - loss: 0.4405 - accuracy: 0.7883 - val_loss: 0.4601 - val_accuracy: 0.8312\n",
      "Epoch 45/100\n",
      "20/20 [==============================] - 0s 6ms/step - loss: 0.4505 - accuracy: 0.7834 - val_loss: 0.4706 - val_accuracy: 0.8182\n",
      "Epoch 46/100\n",
      "20/20 [==============================] - 0s 4ms/step - loss: 0.4529 - accuracy: 0.7704 - val_loss: 0.4644 - val_accuracy: 0.8117\n",
      "Epoch 47/100\n",
      "20/20 [==============================] - 0s 4ms/step - loss: 0.4391 - accuracy: 0.7980 - val_loss: 0.4683 - val_accuracy: 0.8312\n",
      "Epoch 48/100\n",
      "20/20 [==============================] - 0s 4ms/step - loss: 0.4578 - accuracy: 0.7883 - val_loss: 0.4881 - val_accuracy: 0.8182\n",
      "Epoch 49/100\n",
      "20/20 [==============================] - 0s 5ms/step - loss: 0.4419 - accuracy: 0.7785 - val_loss: 0.4715 - val_accuracy: 0.8182\n",
      "Epoch 50/100\n",
      "20/20 [==============================] - 0s 4ms/step - loss: 0.4373 - accuracy: 0.7785 - val_loss: 0.4721 - val_accuracy: 0.8182\n",
      "Epoch 51/100\n",
      "20/20 [==============================] - 0s 5ms/step - loss: 0.4475 - accuracy: 0.7801 - val_loss: 0.4758 - val_accuracy: 0.8247\n",
      "Epoch 52/100\n",
      "20/20 [==============================] - 0s 4ms/step - loss: 0.4543 - accuracy: 0.7915 - val_loss: 0.4671 - val_accuracy: 0.8312\n"
     ]
    }
   ],
   "source": [
    "model.fit(x_train,y_train,batch_size=32,epochs=100,initial_epoch=6,validation_data=(x_test,y_test))"
   ]
  },
  {
   "cell_type": "code",
   "execution_count": null,
   "id": "9f137c35-a014-4baa-864e-57379c5fc086",
   "metadata": {},
   "outputs": [],
   "source": []
  }
 ],
 "metadata": {
  "kernelspec": {
   "display_name": "Python 3 (ipykernel)",
   "language": "python",
   "name": "python3"
  },
  "language_info": {
   "codemirror_mode": {
    "name": "ipython",
    "version": 3
   },
   "file_extension": ".py",
   "mimetype": "text/x-python",
   "name": "python",
   "nbconvert_exporter": "python",
   "pygments_lexer": "ipython3",
   "version": "3.10.14"
  }
 },
 "nbformat": 4,
 "nbformat_minor": 5
}
